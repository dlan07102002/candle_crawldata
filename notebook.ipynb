{
 "cells": [
  {
   "cell_type": "code",
   "execution_count": 2,
   "metadata": {},
   "outputs": [
    {
     "name": "stdout",
     "output_type": "stream",
     "text": [
      "Indulge in fresh baked cinnamon rolls layered with sticky cinnamon sugar, a blend of savory spices, nutty pecans, and warm sugared dough\n"
     ]
    }
   ],
   "source": [
    "from bs4 import BeautifulSoup\n",
    "\n",
    "def extract_description(html_string):\n",
    "    # Sử dụng BeautifulSoup để phân tích cú pháp HTML\n",
    "    soup = BeautifulSoup(html_string, 'html.parser')\n",
    "    \n",
    "    # Tìm thẻ <span> có dữ liệu mô tả\n",
    "    description_tag = soup.find('span', {'data-sheets-value': True})\n",
    "    \n",
    "    if description_tag:\n",
    "        # Trích xuất nội dung văn bản từ thẻ <span>\n",
    "        description = description_tag.get_text(strip=True)\n",
    "        return description\n",
    "    else:\n",
    "        return \"No description found\"\n",
    "\n",
    "# Chuỗi HTML mẫu\n",
    "html_string = '''<style type=\"text/css\" data-mce-fragment=\"1\"><!--td {border: 1px solid #cccccc;}br {mso-data-placement:same-cell;}--></style>\n",
    "<span data-sheets-value='{\"1\":2,\"2\":\"Indulge in fresh baked cinnamon rolls layered with sticky cinnamon sugar, a blend of savory spices, nutty pecans, and warm sugared dough\"}' data-sheets-userformat='{\"2\":15295,\"3\":{\"1\":0},\"4\":{\"1\":2,\"2\":16777215},\"5\":{\"1\":[{\"1\":2,\"2\":0,\"5\":{\"1\":2,\"2\":0}},{\"1\":0,\"2\":0,\"3\":3},{\"1\":1,\"2\":0,\"4\":1}]},\"6\":{\"1\":[{\"1\":2,\"2\":0,\"5\":{\"1\":2,\"2\":0}},{\"1\":0,\"2\":0,\"3\":3},{\"1\":1,\"2\":0,\"4\":1}]},\"7\":{\"1\":[{\"1\":2,\"2\":0,\"5\":{\"1\":2,\"2\":0}},{\"1\":0,\"2\":0,\"3\":3},{\"1\":1,\"2\":0,\"4\":1}]},\"8\":{\"1\":[{\"1\":2,\"2\":0,\"5\":{\"1\":2,\"2\":0}},{\"1\":0,\"2\":0,\"3\":3},{\"1\":1,\"2\":0,\"4\":1}]},\"10\":2,\"11\":4,\"12\":0,\"14\":{\"1\":2,\"2\":0},\"15\":\"Calibri\",\"16\":12}' data-mce-fragment=\"1\">Indulge in fresh baked cinnamon rolls layered with sticky cinnamon sugar, a blend of savory spices, nutty pecans, and warm sugared dough</span>'''\n",
    "\n",
    "# Gọi hàm để lấy mô tả sản phẩm\n",
    "description = extract_description(html_string)\n",
    "print(description)"
   ]
  }
 ],
 "metadata": {
  "kernelspec": {
   "display_name": "venv",
   "language": "python",
   "name": "python3"
  },
  "language_info": {
   "codemirror_mode": {
    "name": "ipython",
    "version": 3
   },
   "file_extension": ".py",
   "mimetype": "text/x-python",
   "name": "python",
   "nbconvert_exporter": "python",
   "pygments_lexer": "ipython3",
   "version": "3.12.2"
  }
 },
 "nbformat": 4,
 "nbformat_minor": 2
}
